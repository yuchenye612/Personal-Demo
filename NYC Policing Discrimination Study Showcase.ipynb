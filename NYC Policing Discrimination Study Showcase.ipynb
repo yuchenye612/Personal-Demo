{
 "cells": [
  {
   "cell_type": "markdown",
   "id": "c71eee21",
   "metadata": {
    "id": "bizarre-tonight"
   },
   "source": [
    "# NYC Policing Discrimination Study Showcase"
   ]
  },
  {
   "cell_type": "markdown",
   "id": "7d475676",
   "metadata": {
    "id": "patent-china"
   },
   "source": [
    "#### In this showcase, we study whether stop and frisk policy was racially discriminatory, using NYPD stop and frisk data frecord. We will rely on logistic regression and regularized regression.\n"
   ]
  },
  {
   "cell_type": "markdown",
   "id": "b1eaae43",
   "metadata": {
    "id": "lPy-JHVGfPsF"
   },
   "source": [
    "## Data processing\n",
    "\n",
    "Read the CSV file \"sqf_sample.csv\" and filter for stops between 2009 and 2013 (including both 2009 and 2013 in your sample). Filter for stops of white, Black, Hispanic, and Asian pedestrians using the suspect_race column.\n"
   ]
  },
  {
   "cell_type": "code",
   "execution_count": 1,
   "id": "18059ef4",
   "metadata": {},
   "outputs": [],
   "source": [
    "import pandas as pd\n",
    "import numpy as np\n",
    "\n",
    "sqf = pd.read_csv('sqf_sample.csv')\n",
    "\n",
    "sqf_yr = sqf.loc[sqf['year'].isin([2009,2010,2011,2012,2013])]\n",
    "sqf_yr = sqf_yr.loc[sqf_yr['suspect_race'].isin(['hispanic','asian','white','black'])]"
   ]
  },
  {
   "cell_type": "markdown",
   "id": "c9e2452d",
   "metadata": {
    "id": "ranging-edition"
   },
   "source": [
    "## Frisk Decision Outcome using Regression."
   ]
  },
  {
   "cell_type": "markdown",
   "id": "ed85154a",
   "metadata": {
    "id": "canadian-signature"
   },
   "source": [
    "We will start by testing for racial discrimination in the decision to conduct a frisk after a stop: ie, whether minority pedestrians are more likely to be frisked (patted down for weapons) after they are stopped, controlling for other factors.\n",
    "\n",
    "Using statsmodels library, perform a logistic regressio using `frisked` as the dependent variable and `suspect_race` as the independent variable, to assess how the probability of being frisked after a stop varies by race."
   ]
  },
  {
   "cell_type": "code",
   "execution_count": 2,
   "id": "1afc2b31",
   "metadata": {},
   "outputs": [
    {
     "name": "stdout",
     "output_type": "stream",
     "text": [
      "Optimization terminated successfully.\n",
      "         Current function value: 0.681382\n",
      "         Iterations 4\n",
      "                           Logit Regression Results                           \n",
      "==============================================================================\n",
      "Dep. Variable:                frisked   No. Observations:               249802\n",
      "Model:                          Logit   Df Residuals:                   249798\n",
      "Method:                           MLE   Df Model:                            3\n",
      "Date:                Sat, 12 Nov 2022   Pseudo R-squ.:                0.005311\n",
      "Time:                        21:27:25   Log-Likelihood:            -1.7021e+05\n",
      "converged:                       True   LL-Null:                   -1.7112e+05\n",
      "Covariance Type:            nonrobust   LLR p-value:                     0.000\n",
      "============================================================================================\n",
      "                               coef    std err          z      P>|z|      [0.025      0.975]\n",
      "--------------------------------------------------------------------------------------------\n",
      "Intercept                   -0.0900      0.022     -4.161      0.000      -0.132      -0.048\n",
      "suspect_race[T.black]        0.4048      0.022     18.128      0.000       0.361       0.449\n",
      "suspect_race[T.hispanic]     0.4267      0.023     18.726      0.000       0.382       0.471\n",
      "suspect_race[T.white]       -0.1219      0.025     -4.834      0.000      -0.171      -0.072\n",
      "============================================================================================\n",
      "['black' 'hispanic' 'asian' 'white']\n"
     ]
    }
   ],
   "source": [
    "import statsmodels.api as sm\n",
    "\n",
    "x_train = pd.get_dummies(sqf_yr['suspect_race'])\n",
    "y_train = sqf_yr['frisked']\n",
    "\n",
    "\n",
    "\n",
    "log_reg = sm.Logit.from_formula('frisked ~ suspect_race',data=sqf_yr).fit()\n",
    "\n",
    "print(log_reg.summary())\n",
    "races = pd.unique(sqf_yr['suspect_race'])\n",
    "print(races)\n"
   ]
  },
  {
   "cell_type": "markdown",
   "id": "0219b600",
   "metadata": {
    "id": "m8WYaqSvWoRI"
   },
   "source": [
    "Although those with Asian race data were present in data ('asian'), the logistic regression omitted them as coefficients. \n",
    "The value of the coefficient for each race represents their relative likelihood to be frisked in a stop, where value greater than 0 represents higher likelihood, and value less than 0 represents lower likelihood. \n",
    "\n",
    "In the other hand, Z values measures the statistical significance of findings. Greater absolute value of z indicates more significant and robust finding in terms of error,observed in the study for black, hispanic, and white races, while lower absolute value represents less significant findings due to higher random error, presented in the other races. "
   ]
  },
  {
   "cell_type": "markdown",
   "id": "bb77d43d",
   "metadata": {
    "id": "earned-mainstream"
   },
   "source": [
    "Linear regression instead of a logistic regression using the same formula."
   ]
  },
  {
   "cell_type": "code",
   "execution_count": 3,
   "id": "4b1017e3",
   "metadata": {},
   "outputs": [
    {
     "name": "stdout",
     "output_type": "stream",
     "text": [
      "                            OLS Regression Results                            \n",
      "==============================================================================\n",
      "Dep. Variable:                frisked   R-squared:                       0.007\n",
      "Model:                            OLS   Adj. R-squared:                  0.007\n",
      "Method:                 Least Squares   F-statistic:                     615.8\n",
      "Date:                Sat, 12 Nov 2022   Prob (F-statistic):               0.00\n",
      "Time:                        21:27:29   Log-Likelihood:            -1.7834e+05\n",
      "No. Observations:              249802   AIC:                         3.567e+05\n",
      "Df Residuals:                  249798   BIC:                         3.567e+05\n",
      "Df Model:                           3                                         \n",
      "Covariance Type:            nonrobust                                         \n",
      "============================================================================================\n",
      "                               coef    std err          t      P>|t|      [0.025      0.975]\n",
      "--------------------------------------------------------------------------------------------\n",
      "Intercept                    0.4775      0.005     89.395      0.000       0.467       0.488\n",
      "suspect_race[T.black]        0.1005      0.006     18.256      0.000       0.090       0.111\n",
      "suspect_race[T.hispanic]     0.1059      0.006     18.850      0.000       0.095       0.117\n",
      "suspect_race[T.white]       -0.0303      0.006     -4.873      0.000      -0.042      -0.018\n",
      "==============================================================================\n",
      "Omnibus:                   904686.798   Durbin-Watson:                   1.995\n",
      "Prob(Omnibus):                  0.000   Jarque-Bera (JB):            40481.509\n",
      "Skew:                          -0.257   Prob(JB):                         0.00\n",
      "Kurtosis:                       1.096   Cond. No.                         13.2\n",
      "==============================================================================\n",
      "\n",
      "Notes:\n",
      "[1] Standard Errors assume that the covariance matrix of the errors is correctly specified.\n",
      "['black' 'hispanic' 'asian' 'white']\n"
     ]
    }
   ],
   "source": [
    "x_train = pd.get_dummies(sqf_yr['suspect_race'])\n",
    "y_train = sqf_yr['frisked']\n",
    "\n",
    "\n",
    "log_reg = sm.OLS.from_formula('frisked ~ suspect_race',data=sqf_yr).fit()\n",
    "print(log_reg.summary())\n",
    "races = pd.unique(sqf_yr['suspect_race'])\n",
    "print(races)"
   ]
  },
  {
   "cell_type": "markdown",
   "id": "934040c9",
   "metadata": {
    "id": "assumed-employment"
   },
   "source": [
    "Logistic regression controlling for both race and for the \"precinct\" variable, which encodes the police precinct in which the stop occurred."
   ]
  },
  {
   "cell_type": "code",
   "execution_count": 4,
   "id": "ad8cc47a",
   "metadata": {},
   "outputs": [
    {
     "name": "stdout",
     "output_type": "stream",
     "text": [
      "Optimization terminated successfully.\n",
      "         Current function value: 0.658357\n",
      "         Iterations 6\n",
      "                           Logit Regression Results                           \n",
      "==============================================================================\n",
      "Dep. Variable:                frisked   No. Observations:               249802\n",
      "Model:                          Logit   Df Residuals:                   249495\n",
      "Method:                           MLE   Df Model:                          306\n",
      "Date:                Sat, 12 Nov 2022   Pseudo R-squ.:                 0.03892\n",
      "Time:                        21:28:20   Log-Likelihood:            -1.6446e+05\n",
      "converged:                       True   LL-Null:                   -1.7112e+05\n",
      "Covariance Type:            nonrobust   LLR p-value:                     0.000\n",
      "==================================================================================================================\n",
      "                                                     coef    std err          z      P>|z|      [0.025      0.975]\n",
      "------------------------------------------------------------------------------------------------------------------\n",
      "Intercept                                         -2.0244      0.402     -5.034      0.000      -2.813      -1.236\n",
      "C(precinct)[T.5.0]                                 1.1122      0.436      2.549      0.011       0.257       1.967\n",
      "C(precinct)[T.6.0]                                 1.6761      0.551      3.040      0.002       0.596       2.757\n",
      "C(precinct)[T.7.0]                                 1.9226      0.479      4.012      0.000       0.983       2.862\n",
      "C(precinct)[T.9.0]                                 1.3097      0.476      2.752      0.006       0.377       2.242\n",
      "C(precinct)[T.10.0]                                1.4854      0.524      2.833      0.005       0.458       2.513\n",
      "C(precinct)[T.13.0]                                0.9064      0.490      1.851      0.064      -0.053       1.866\n",
      "C(precinct)[T.14.0]                                1.0018      0.441      2.269      0.023       0.137       1.867\n",
      "C(precinct)[T.17.0]                               -0.2092      0.729     -0.287      0.774      -1.637       1.219\n",
      "C(precinct)[T.18.0]                                1.1371      0.512      2.219      0.026       0.133       2.141\n",
      "C(precinct)[T.19.0]                                1.1836      0.476      2.485      0.013       0.250       2.117\n",
      "C(precinct)[T.20.0]                                0.6784      0.478      1.420      0.155      -0.258       1.614\n",
      "C(precinct)[T.22.0]                                0.2326      1.153      0.202      0.840      -2.026       2.492\n",
      "C(precinct)[T.23.0]                                1.4821      0.474      3.125      0.002       0.552       2.412\n",
      "C(precinct)[T.24.0]                                1.1081      0.580      1.910      0.056      -0.029       2.245\n",
      "C(precinct)[T.25.0]                                2.4944      0.569      4.381      0.000       1.378       3.610\n",
      "C(precinct)[T.26.0]                                1.8909      0.655      2.885      0.004       0.606       3.175\n",
      "C(precinct)[T.28.0]                                1.4053      0.618      2.275      0.023       0.195       2.616\n",
      "C(precinct)[T.30.0]                                1.9598      0.539      3.634      0.000       0.903       3.017\n",
      "C(precinct)[T.32.0]                                2.9182      0.564      5.173      0.000       1.812       4.024\n",
      "C(precinct)[T.33.0]                                2.0244      0.601      3.366      0.001       0.846       3.203\n",
      "C(precinct)[T.34.0]                                1.2135      0.723      1.678      0.093      -0.204       2.631\n",
      "C(precinct)[T.40.0]                                2.6604      0.576      4.620      0.000       1.532       3.789\n",
      "C(precinct)[T.41.0]                                2.2867      0.582      3.930      0.000       1.146       3.427\n",
      "C(precinct)[T.42.0]                                3.1230      0.704      4.439      0.000       1.744       4.502\n",
      "C(precinct)[T.43.0]                                2.1887      0.477      4.586      0.000       1.253       3.124\n",
      "C(precinct)[T.44.0]                                3.1771      0.617      5.147      0.000       1.967       4.387\n",
      "C(precinct)[T.45.0]                                1.4265      0.550      2.593      0.010       0.348       2.505\n",
      "C(precinct)[T.46.0]                                3.0229      0.598      5.058      0.000       1.851       4.194\n",
      "C(precinct)[T.47.0]                                3.2929      0.551      5.971      0.000       2.212       4.374\n",
      "C(precinct)[T.48.0]                                3.4907      0.756      4.616      0.000       2.008       4.973\n",
      "C(precinct)[T.49.0]                                2.3020      0.482      4.779      0.000       1.358       3.246\n",
      "C(precinct)[T.50.0]                                2.2757      0.645      3.530      0.000       1.012       3.539\n",
      "C(precinct)[T.52.0]                                2.8894      0.501      5.773      0.000       1.908       3.870\n",
      "C(precinct)[T.60.0]                                1.7620      0.454      3.883      0.000       0.873       2.651\n",
      "C(precinct)[T.61.0]                                1.7035      0.456      3.732      0.000       0.809       2.598\n",
      "C(precinct)[T.62.0]                                1.7430      0.429      4.067      0.000       0.903       2.583\n",
      "C(precinct)[T.63.0]                                2.4764      0.629      3.938      0.000       1.244       3.709\n",
      "C(precinct)[T.66.0]                                1.7958      0.431      4.164      0.000       0.951       2.641\n",
      "C(precinct)[T.67.0]                                1.9018      0.494      3.853      0.000       0.934       2.869\n",
      "C(precinct)[T.68.0]                                1.9162      0.465      4.124      0.000       1.005       2.827\n",
      "C(precinct)[T.69.0]                                2.2357      0.518      4.317      0.000       1.221       3.251\n",
      "C(precinct)[T.70.0]                                2.4729      0.439      5.634      0.000       1.613       3.333\n",
      "C(precinct)[T.71.0]                                1.9066      0.631      3.023      0.003       0.670       3.143\n",
      "C(precinct)[T.72.0]                                1.8798      0.451      4.170      0.000       0.996       2.763\n",
      "C(precinct)[T.73.0]                                1.8872      0.466      4.053      0.000       0.975       2.800\n",
      "C(precinct)[T.75.0]                                1.8525      0.430      4.310      0.000       1.010       2.695\n",
      "C(precinct)[T.76.0]                                0.7122      0.502      1.418      0.156      -0.272       1.697\n",
      "C(precinct)[T.77.0]                                2.0934      0.480      4.358      0.000       1.152       3.035\n",
      "C(precinct)[T.78.0]                                0.7716      0.613      1.258      0.208      -0.430       1.973\n",
      "C(precinct)[T.79.0]                                1.5425      0.489      3.157      0.002       0.585       2.500\n",
      "C(precinct)[T.81.0]                                2.7175      0.642      4.235      0.000       1.460       3.975\n",
      "C(precinct)[T.83.0]                                1.7620      0.500      3.523      0.000       0.782       2.742\n",
      "C(precinct)[T.84.0]                                1.1489      0.482      2.382      0.017       0.204       2.094\n",
      "C(precinct)[T.88.0]                                1.1489      0.506      2.270      0.023       0.157       2.141\n",
      "C(precinct)[T.90.0]                                0.7607      0.510      1.491      0.136      -0.239       1.761\n",
      "C(precinct)[T.94.0]                                2.0244      0.586      3.454      0.001       0.876       3.173\n",
      "C(precinct)[T.100.0]                               0.8204      0.553      1.483      0.138      -0.264       1.905\n",
      "C(precinct)[T.101.0]                               2.0934      0.548      3.823      0.000       1.020       3.167\n",
      "C(precinct)[T.102.0]                               2.1641      0.409      5.292      0.000       1.363       2.966\n",
      "C(precinct)[T.103.0]                               1.8027      0.418      4.315      0.000       0.984       2.621\n",
      "C(precinct)[T.104.0]                               1.8061      0.454      3.982      0.000       0.917       2.695\n",
      "C(precinct)[T.105.0]                               1.9055      0.424      4.491      0.000       1.074       2.737\n",
      "C(precinct)[T.106.0]                               1.9291      0.407      4.743      0.000       1.132       2.726\n",
      "C(precinct)[T.107.0]                               1.6771      0.420      3.995      0.000       0.854       2.500\n",
      "C(precinct)[T.108.0]                               2.2267      0.416      5.358      0.000       1.412       3.041\n",
      "C(precinct)[T.109.0]                               2.2553      0.408      5.529      0.000       1.456       3.055\n",
      "C(precinct)[T.110.0]                               2.6025      0.429      6.061      0.000       1.761       3.444\n",
      "C(precinct)[T.111.0]                               2.2141      0.416      5.319      0.000       1.398       3.030\n",
      "C(precinct)[T.112.0]                               2.1511      0.461      4.666      0.000       1.248       3.055\n",
      "C(precinct)[T.113.0]                               1.6366      0.454      3.607      0.000       0.747       2.526\n",
      "C(precinct)[T.114.0]                               2.5485      0.424      6.017      0.000       1.718       3.379\n",
      "C(precinct)[T.115.0]                               2.3768      0.431      5.515      0.000       1.532       3.221\n",
      "C(precinct)[T.120.0]                               1.5983      0.462      3.460      0.001       0.693       2.504\n",
      "C(precinct)[T.121.0]                               2.1494   1.06e+07   2.03e-07      1.000   -2.08e+07    2.08e+07\n",
      "C(precinct)[T.122.0]                               2.0889      0.476      4.391      0.000       1.157       3.021\n",
      "C(precinct)[T.123.0]                               0.7716      0.695      1.110      0.267      -0.591       2.134\n",
      "C(suspect_race)[T.black]:C(precinct)[1.0]          1.8789      0.408      4.600      0.000       1.078       2.679\n",
      "C(suspect_race)[T.hispanic]:C(precinct)[1.0]       1.6656      0.424      3.930      0.000       0.835       2.496\n",
      "C(suspect_race)[T.white]:C(precinct)[1.0]          1.5263      0.427      3.577      0.000       0.690       2.363\n",
      "C(suspect_race)[T.black]:C(precinct)[5.0]          0.9558      0.191      5.001      0.000       0.581       1.330\n",
      "C(suspect_race)[T.hispanic]:C(precinct)[5.0]       0.9288      0.199      4.662      0.000       0.538       1.319\n",
      "C(suspect_race)[T.white]:C(precinct)[5.0]          0.2695      0.232      1.164      0.245      -0.184       0.723\n",
      "C(suspect_race)[T.black]:C(precinct)[6.0]          0.4455      0.384      1.161      0.245      -0.306       1.197\n",
      "C(suspect_race)[T.hispanic]:C(precinct)[6.0]       0.3773      0.396      0.953      0.340      -0.398       1.153\n",
      "C(suspect_race)[T.white]:C(precinct)[6.0]         -0.1064      0.398     -0.267      0.789      -0.887       0.674\n",
      "C(suspect_race)[T.black]:C(precinct)[7.0]          0.8176      0.275      2.974      0.003       0.279       1.356\n",
      "C(suspect_race)[T.hispanic]:C(precinct)[7.0]       0.6756      0.272      2.480      0.013       0.142       1.210\n",
      "C(suspect_race)[T.white]:C(precinct)[7.0]          0.1224      0.298      0.411      0.681      -0.461       0.706\n",
      "C(suspect_race)[T.black]:C(precinct)[9.0]          0.7933      0.264      3.002      0.003       0.275       1.311\n",
      "C(suspect_race)[T.hispanic]:C(precinct)[9.0]       0.8207      0.263      3.120      0.002       0.305       1.336\n",
      "C(suspect_race)[T.white]:C(precinct)[9.0]          0.1935      0.272      0.712      0.477      -0.339       0.726\n",
      "C(suspect_race)[T.black]:C(precinct)[10.0]         0.6153      0.346      1.778      0.075      -0.063       1.294\n",
      "C(suspect_race)[T.hispanic]:C(precinct)[10.0]      0.4590      0.354      1.296      0.195      -0.235       1.153\n",
      "C(suspect_race)[T.white]:C(precinct)[10.0]         0.1574      0.361      0.436      0.663      -0.550       0.864\n",
      "C(suspect_race)[T.black]:C(precinct)[13.0]         0.8060      0.288      2.799      0.005       0.242       1.370\n",
      "C(suspect_race)[T.hispanic]:C(precinct)[13.0]      0.7036      0.292      2.406      0.016       0.130       1.277\n",
      "C(suspect_race)[T.white]:C(precinct)[13.0]         0.4288      0.299      1.432      0.152      -0.158       1.016\n",
      "C(suspect_race)[T.black]:C(precinct)[14.0]         0.4320      0.187      2.311      0.021       0.066       0.798\n",
      "C(suspect_race)[T.hispanic]:C(precinct)[14.0]      0.4278      0.193      2.211      0.027       0.049       0.807\n",
      "C(suspect_race)[T.white]:C(precinct)[14.0]         0.3078      0.199      1.545      0.122      -0.083       0.698\n",
      "C(suspect_race)[T.black]:C(precinct)[17.0]         1.6115      0.620      2.600      0.009       0.397       2.826\n",
      "C(suspect_race)[T.hispanic]:C(precinct)[17.0]      1.5021      0.626      2.399      0.016       0.275       2.730\n",
      "C(suspect_race)[T.white]:C(precinct)[17.0]         1.2664      0.632      2.005      0.045       0.028       2.505\n",
      "C(suspect_race)[T.black]:C(precinct)[18.0]         0.0442      0.328      0.135      0.893      -0.599       0.688\n",
      "C(suspect_race)[T.hispanic]:C(precinct)[18.0]      0.1855      0.337      0.550      0.582      -0.476       0.847\n",
      "C(suspect_race)[T.white]:C(precinct)[18.0]        -0.1150      0.347     -0.331      0.741      -0.796       0.566\n",
      "C(suspect_race)[T.black]:C(precinct)[19.0]         0.6389      0.267      2.397      0.017       0.117       1.161\n",
      "C(suspect_race)[T.hispanic]:C(precinct)[19.0]      0.3145      0.268      1.172      0.241      -0.211       0.840\n",
      "C(suspect_race)[T.white]:C(precinct)[19.0]         0.1548      0.275      0.562      0.574      -0.385       0.694\n",
      "C(suspect_race)[T.black]:C(precinct)[20.0]         0.7534      0.269      2.798      0.005       0.226       1.281\n",
      "C(suspect_race)[T.hispanic]:C(precinct)[20.0]      0.7024      0.274      2.565      0.010       0.166       1.239\n",
      "C(suspect_race)[T.white]:C(precinct)[20.0]         0.1485      0.283      0.524      0.600      -0.407       0.704\n",
      "C(suspect_race)[T.black]:C(precinct)[22.0]         1.0803      1.093      0.989      0.323      -1.062       3.222\n",
      "C(suspect_race)[T.hispanic]:C(precinct)[22.0]      0.9945      1.096      0.907      0.364      -1.154       3.143\n",
      "C(suspect_race)[T.white]:C(precinct)[22.0]         0.5390      1.117      0.483      0.629      -1.650       2.728\n",
      "C(suspect_race)[T.black]:C(precinct)[23.0]         0.7528      0.254      2.967      0.003       0.256       1.250\n",
      "C(suspect_race)[T.hispanic]:C(precinct)[23.0]      0.5120      0.255      2.009      0.045       0.012       1.011\n",
      "C(suspect_race)[T.white]:C(precinct)[23.0]         0.1665      0.305      0.547      0.585      -0.431       0.764\n",
      "C(suspect_race)[T.black]:C(precinct)[24.0]         0.7869      0.424      1.858      0.063      -0.043       1.617\n",
      "C(suspect_race)[T.hispanic]:C(precinct)[24.0]      0.5768      0.427      1.351      0.177      -0.260       1.414\n",
      "C(suspect_race)[T.white]:C(precinct)[24.0]         0.1957      0.450      0.435      0.664      -0.686       1.078\n",
      "C(suspect_race)[T.black]:C(precinct)[25.0]        -0.0808      0.405     -0.199      0.842      -0.875       0.713\n",
      "C(suspect_race)[T.hispanic]:C(precinct)[25.0]     -0.3370      0.408     -0.826      0.409      -1.137       0.463\n",
      "C(suspect_race)[T.white]:C(precinct)[25.0]        -0.2877      0.446     -0.645      0.519      -1.162       0.587\n",
      "C(suspect_race)[T.black]:C(precinct)[26.0]         0.5643      0.520      1.084      0.278      -0.456       1.584\n",
      "C(suspect_race)[T.hispanic]:C(precinct)[26.0]      0.3671      0.525      0.699      0.484      -0.662       1.396\n",
      "C(suspect_race)[T.white]:C(precinct)[26.0]        -0.2719      0.572     -0.475      0.635      -1.393       0.850\n",
      "C(suspect_race)[T.black]:C(precinct)[28.0]         0.7328      0.470      1.558      0.119      -0.189       1.655\n",
      "C(suspect_race)[T.hispanic]:C(precinct)[28.0]      0.2136      0.479      0.446      0.656      -0.725       1.152\n",
      "C(suspect_race)[T.white]:C(precinct)[28.0]         0.1854      0.517      0.359      0.720      -0.827       1.198\n",
      "C(suspect_race)[T.black]:C(precinct)[30.0]         0.3275      0.364      0.900      0.368      -0.386       1.041\n",
      "C(suspect_race)[T.hispanic]:C(precinct)[30.0]      0.1664      0.364      0.458      0.647      -0.546       0.879\n",
      "C(suspect_race)[T.white]:C(precinct)[30.0]         0.1598      0.439      0.364      0.716      -0.701       1.020\n",
      "C(suspect_race)[T.black]:C(precinct)[32.0]         0.1104      0.397      0.278      0.781      -0.668       0.889\n",
      "C(suspect_race)[T.hispanic]:C(precinct)[32.0]     -0.3538      0.408     -0.867      0.386      -1.153       0.446\n",
      "C(suspect_race)[T.white]:C(precinct)[32.0]        -0.7954      0.471     -1.687      0.092      -1.719       0.129\n",
      "C(suspect_race)[T.black]:C(precinct)[33.0]         0.4428      0.456      0.972      0.331      -0.450       1.336\n",
      "C(suspect_race)[T.hispanic]:C(precinct)[33.0]      0.3186      0.450      0.708      0.479      -0.564       1.201\n",
      "C(suspect_race)[T.white]:C(precinct)[33.0]     -2.107e-14      0.500  -4.21e-14      1.000      -0.980       0.980\n",
      "C(suspect_race)[T.black]:C(precinct)[34.0]         1.4164      0.610      2.321      0.020       0.220       2.612\n",
      "C(suspect_race)[T.hispanic]:C(precinct)[34.0]      0.9316      0.602      1.547      0.122      -0.248       2.112\n",
      "C(suspect_race)[T.white]:C(precinct)[34.0]         0.7156      0.623      1.148      0.251      -0.506       1.937\n",
      "C(suspect_race)[T.black]:C(precinct)[40.0]        -0.0290      0.414     -0.070      0.944      -0.840       0.782\n",
      "C(suspect_race)[T.hispanic]:C(precinct)[40.0]     -0.1944      0.414     -0.470      0.639      -1.005       0.617\n",
      "C(suspect_race)[T.white]:C(precinct)[40.0]        -0.3483      0.472     -0.738      0.461      -1.274       0.577\n",
      "C(suspect_race)[T.black]:C(precinct)[41.0]         0.2978      0.424      0.702      0.482      -0.533       1.129\n",
      "C(suspect_race)[T.hispanic]:C(precinct)[41.0]      0.1778      0.423      0.420      0.675      -0.652       1.007\n",
      "C(suspect_race)[T.white]:C(precinct)[41.0]        -1.2221      0.504     -2.426      0.015      -2.209      -0.235\n",
      "C(suspect_race)[T.black]:C(precinct)[42.0]        -0.1800      0.579     -0.311      0.756      -1.315       0.955\n",
      "C(suspect_race)[T.hispanic]:C(precinct)[42.0]     -0.4814      0.580     -0.830      0.407      -1.618       0.655\n",
      "C(suspect_race)[T.white]:C(precinct)[42.0]        -1.1787      0.703     -1.678      0.093      -2.556       0.198\n",
      "C(suspect_race)[T.black]:C(precinct)[43.0]         0.2340      0.260      0.899      0.369      -0.276       0.744\n",
      "C(suspect_race)[T.hispanic]:C(precinct)[43.0]      0.0675      0.260      0.260      0.795      -0.442       0.577\n",
      "C(suspect_race)[T.white]:C(precinct)[43.0]        -0.0071      0.325     -0.022      0.983      -0.644       0.629\n",
      "C(suspect_race)[T.black]:C(precinct)[44.0]         0.2769      0.471      0.588      0.556      -0.645       1.199\n",
      "C(suspect_race)[T.hispanic]:C(precinct)[44.0]      0.1333      0.471      0.283      0.777      -0.789       1.056\n",
      "C(suspect_race)[T.white]:C(precinct)[44.0]        -0.5190      0.527     -0.984      0.325      -1.553       0.515\n",
      "C(suspect_race)[T.black]:C(precinct)[45.0]         0.6152      0.383      1.606      0.108      -0.135       1.366\n",
      "C(suspect_race)[T.hispanic]:C(precinct)[45.0]      0.3008      0.382      0.787      0.431      -0.448       1.050\n",
      "C(suspect_race)[T.white]:C(precinct)[45.0]         0.3186      0.391      0.815      0.415      -0.447       1.084\n",
      "C(suspect_race)[T.black]:C(precinct)[46.0]         0.2932      0.446      0.658      0.511      -0.580       1.167\n",
      "C(suspect_race)[T.hispanic]:C(precinct)[46.0]      0.2958      0.445      0.664      0.506      -0.577       1.168\n",
      "C(suspect_race)[T.white]:C(precinct)[46.0]         0.3008      0.638      0.471      0.638      -0.951       1.552\n",
      "C(suspect_race)[T.black]:C(precinct)[47.0]        -0.6684      0.379     -1.762      0.078      -1.412       0.075\n",
      "C(suspect_race)[T.hispanic]:C(precinct)[47.0]     -1.0733      0.385     -2.789      0.005      -1.827      -0.319\n",
      "C(suspect_race)[T.white]:C(precinct)[47.0]        -1.4744      0.441     -3.346      0.001      -2.338      -0.611\n",
      "C(suspect_race)[T.black]:C(precinct)[48.0]        -0.7378      0.645     -1.144      0.253      -2.002       0.527\n",
      "C(suspect_race)[T.hispanic]:C(precinct)[48.0]     -0.6662      0.645     -1.033      0.302      -1.931       0.598\n",
      "C(suspect_race)[T.white]:C(precinct)[48.0]        -0.9555      0.681     -1.403      0.161      -2.290       0.379\n",
      "C(suspect_race)[T.black]:C(precinct)[49.0]         0.3873      0.271      1.429      0.153      -0.144       0.918\n",
      "C(suspect_race)[T.hispanic]:C(precinct)[49.0]     -0.0056      0.272     -0.021      0.984      -0.538       0.527\n",
      "C(suspect_race)[T.white]:C(precinct)[49.0]        -0.2053      0.287     -0.715      0.474      -0.768       0.357\n",
      "C(suspect_race)[T.black]:C(precinct)[50.0]         0.2900      0.518      0.560      0.576      -0.725       1.305\n",
      "C(suspect_race)[T.hispanic]:C(precinct)[50.0]     -0.0047      0.511     -0.009      0.993      -1.006       0.996\n",
      "C(suspect_race)[T.white]:C(precinct)[50.0]        -0.2715      0.543     -0.500      0.617      -1.335       0.792\n",
      "C(suspect_race)[T.black]:C(precinct)[52.0]        -0.0117      0.304     -0.039      0.969      -0.607       0.584\n",
      "C(suspect_race)[T.hispanic]:C(precinct)[52.0]     -0.0274      0.301     -0.091      0.928      -0.617       0.563\n",
      "C(suspect_race)[T.white]:C(precinct)[52.0]        -0.4915      0.347     -1.415      0.157      -1.172       0.189\n",
      "C(suspect_race)[T.black]:C(precinct)[60.0]         0.7559      0.215      3.512      0.000       0.334       1.178\n",
      "C(suspect_race)[T.hispanic]:C(precinct)[60.0]      0.5453      0.220      2.480      0.013       0.114       0.976\n",
      "C(suspect_race)[T.white]:C(precinct)[60.0]         0.2530      0.221      1.144      0.253      -0.180       0.686\n",
      "C(suspect_race)[T.black]:C(precinct)[61.0]         0.7166      0.228      3.140      0.002       0.269       1.164\n",
      "C(suspect_race)[T.hispanic]:C(precinct)[61.0]      0.3879      0.235      1.654      0.098      -0.072       0.848\n",
      "C(suspect_race)[T.white]:C(precinct)[61.0]         0.0958      0.223      0.430      0.667      -0.341       0.532\n",
      "C(suspect_race)[T.black]:C(precinct)[62.0]         0.0629      0.207      0.304      0.761      -0.343       0.469\n",
      "C(suspect_race)[T.hispanic]:C(precinct)[62.0]     -0.0281      0.167     -0.168      0.866      -0.355       0.299\n",
      "C(suspect_race)[T.white]:C(precinct)[62.0]        -0.0794      0.159     -0.499      0.618      -0.391       0.232\n",
      "C(suspect_race)[T.black]:C(precinct)[63.0]         0.2261      0.487      0.464      0.643      -0.729       1.181\n",
      "C(suspect_race)[T.hispanic]:C(precinct)[63.0]     -0.0282      0.529     -0.053      0.958      -1.065       1.008\n",
      "C(suspect_race)[T.white]:C(precinct)[63.0]        -0.7189      0.505     -1.425      0.154      -1.708       0.270\n",
      "C(suspect_race)[T.black]:C(precinct)[66.0]         0.4542      0.217      2.095      0.036       0.029       0.879\n",
      "C(suspect_race)[T.hispanic]:C(precinct)[66.0]      0.2103      0.172      1.225      0.221      -0.126       0.547\n",
      "C(suspect_race)[T.white]:C(precinct)[66.0]        -0.1183      0.186     -0.636      0.525      -0.483       0.247\n",
      "C(suspect_race)[T.black]:C(precinct)[67.0]         0.3460      0.288      1.203      0.229      -0.218       0.910\n",
      "C(suspect_race)[T.hispanic]:C(precinct)[67.0]     -0.1032      0.325     -0.317      0.751      -0.741       0.535\n",
      "C(suspect_race)[T.white]:C(precinct)[67.0]        -0.6351      0.424     -1.498      0.134      -1.466       0.196\n",
      "C(suspect_race)[T.black]:C(precinct)[68.0]        -0.4948      0.328     -1.509      0.131      -1.138       0.148\n",
      "C(suspect_race)[T.hispanic]:C(precinct)[68.0]     -0.1006      0.257     -0.392      0.695      -0.604       0.403\n",
      "C(suspect_race)[T.white]:C(precinct)[68.0]        -0.3304      0.245     -1.349      0.177      -0.810       0.149\n",
      "C(suspect_race)[T.black]:C(precinct)[69.0]        -0.1358      0.329     -0.413      0.680      -0.780       0.509\n",
      "C(suspect_race)[T.hispanic]:C(precinct)[69.0]     -0.2363      0.363     -0.652      0.515      -0.947       0.474\n",
      "C(suspect_race)[T.white]:C(precinct)[69.0]        -0.5416      0.426     -1.272      0.203      -1.376       0.293\n",
      "C(suspect_race)[T.black]:C(precinct)[70.0]        -0.1310      0.179     -0.731      0.465      -0.482       0.220\n",
      "C(suspect_race)[T.hispanic]:C(precinct)[70.0]     -0.2283      0.190     -1.202      0.229      -0.601       0.144\n",
      "C(suspect_race)[T.white]:C(precinct)[70.0]        -0.4793      0.215     -2.227      0.026      -0.901      -0.058\n",
      "C(suspect_race)[T.black]:C(precinct)[71.0]         0.1830      0.487      0.375      0.707      -0.772       1.138\n",
      "C(suspect_race)[T.hispanic]:C(precinct)[71.0]      0.1775      0.516      0.344      0.731      -0.833       1.188\n",
      "C(suspect_race)[T.white]:C(precinct)[71.0]        -0.1959      0.572     -0.342      0.732      -1.317       0.925\n",
      "C(suspect_race)[T.black]:C(precinct)[72.0]         0.5200      0.245      2.119      0.034       0.039       1.001\n",
      "C(suspect_race)[T.hispanic]:C(precinct)[72.0]      0.6221      0.209      2.969      0.003       0.211       1.033\n",
      "C(suspect_race)[T.white]:C(precinct)[72.0]        -0.2091      0.259     -0.806      0.420      -0.717       0.299\n",
      "C(suspect_race)[T.black]:C(precinct)[73.0]         0.1538      0.236      0.653      0.514      -0.308       0.616\n",
      "C(suspect_race)[T.hispanic]:C(precinct)[73.0]      0.1606      0.244      0.660      0.510      -0.317       0.638\n",
      "C(suspect_race)[T.white]:C(precinct)[73.0]        -0.2091      0.338     -0.619      0.536      -0.871       0.452\n",
      "C(suspect_race)[T.black]:C(precinct)[75.0]         0.4518      0.153      2.948      0.003       0.151       0.752\n",
      "C(suspect_race)[T.hispanic]:C(precinct)[75.0]      0.3307      0.157      2.107      0.035       0.023       0.638\n",
      "C(suspect_race)[T.white]:C(precinct)[75.0]        -0.2428      0.215     -1.131      0.258      -0.664       0.178\n",
      "C(suspect_race)[T.black]:C(precinct)[76.0]         1.2082      0.308      3.922      0.000       0.604       1.812\n",
      "C(suspect_race)[T.hispanic]:C(precinct)[76.0]      0.7601      0.311      2.446      0.014       0.151       1.369\n",
      "C(suspect_race)[T.white]:C(precinct)[76.0]         0.3594      0.321      1.120      0.263      -0.269       0.988\n",
      "C(suspect_race)[T.black]:C(precinct)[77.0]         0.1323      0.265      0.500      0.617      -0.386       0.651\n",
      "C(suspect_race)[T.hispanic]:C(precinct)[77.0]     -0.2134      0.286     -0.747      0.455      -0.774       0.347\n",
      "C(suspect_race)[T.white]:C(precinct)[77.0]        -0.7772      0.338     -2.299      0.022      -1.440      -0.115\n",
      "C(suspect_race)[T.black]:C(precinct)[78.0]         0.8264      0.470      1.757      0.079      -0.096       1.748\n",
      "C(suspect_race)[T.hispanic]:C(precinct)[78.0]      0.9626      0.472      2.039      0.041       0.037       1.888\n",
      "C(suspect_race)[T.white]:C(precinct)[78.0]         0.3623      0.490      0.740      0.460      -0.598       1.322\n",
      "C(suspect_race)[T.black]:C(precinct)[79.0]         0.6014      0.279      2.157      0.031       0.055       1.148\n",
      "C(suspect_race)[T.hispanic]:C(precinct)[79.0]      0.4092      0.285      1.435      0.151      -0.150       0.968\n",
      "C(suspect_race)[T.white]:C(precinct)[79.0]        -0.0003      0.302     -0.001      0.999      -0.593       0.592\n",
      "C(suspect_race)[T.black]:C(precinct)[81.0]        -0.1496      0.501     -0.299      0.765      -1.132       0.833\n",
      "C(suspect_race)[T.hispanic]:C(precinct)[81.0]     -0.1970      0.512     -0.385      0.700      -1.200       0.806\n",
      "C(suspect_race)[T.white]:C(precinct)[81.0]        -0.5914      0.564     -1.049      0.294      -1.697       0.514\n",
      "C(suspect_race)[T.black]:C(precinct)[83.0]         0.9564      0.302      3.169      0.002       0.365       1.548\n",
      "C(suspect_race)[T.hispanic]:C(precinct)[83.0]      0.6262      0.300      2.088      0.037       0.038       1.214\n",
      "C(suspect_race)[T.white]:C(precinct)[83.0]        -0.0619      0.327     -0.189      0.850      -0.702       0.579\n",
      "C(suspect_race)[T.black]:C(precinct)[84.0]         0.5972      0.272      2.194      0.028       0.064       1.131\n",
      "C(suspect_race)[T.hispanic]:C(precinct)[84.0]      0.3734      0.287      1.300      0.194      -0.189       0.936\n",
      "C(suspect_race)[T.white]:C(precinct)[84.0]         0.1553      0.302      0.514      0.607      -0.437       0.747\n",
      "C(suspect_race)[T.black]:C(precinct)[88.0]         1.0217      0.310      3.293      0.001       0.414       1.630\n",
      "C(suspect_race)[T.hispanic]:C(precinct)[88.0]      0.6753      0.325      2.081      0.037       0.039       1.311\n",
      "C(suspect_race)[T.white]:C(precinct)[88.0]        -0.3513      0.357     -0.983      0.325      -1.051       0.349\n",
      "C(suspect_race)[T.black]:C(precinct)[90.0]         1.1339      0.318      3.570      0.000       0.511       1.756\n",
      "C(suspect_race)[T.hispanic]:C(precinct)[90.0]      0.9853      0.317      3.113      0.002       0.365       1.606\n",
      "C(suspect_race)[T.white]:C(precinct)[90.0]         0.4784      0.330      1.451      0.147      -0.168       1.125\n",
      "C(suspect_race)[T.black]:C(precinct)[94.0]         0.6705      0.452      1.483      0.138      -0.216       1.557\n",
      "C(suspect_race)[T.hispanic]:C(precinct)[94.0]      0.3231      0.443      0.729      0.466      -0.546       1.192\n",
      "C(suspect_race)[T.white]:C(precinct)[94.0]         0.0580      0.443      0.131      0.896      -0.810       0.926\n",
      "C(suspect_race)[T.black]:C(precinct)[100.0]        1.4331      0.385      3.725      0.000       0.679       2.187\n",
      "C(suspect_race)[T.hispanic]:C(precinct)[100.0]     1.1110      0.396      2.805      0.005       0.335       1.887\n",
      "C(suspect_race)[T.white]:C(precinct)[100.0]        0.7610      0.397      1.915      0.055      -0.018       1.540\n",
      "C(suspect_race)[T.black]:C(precinct)[101.0]        0.9705      0.373      2.600      0.009       0.239       1.702\n",
      "C(suspect_race)[T.hispanic]:C(precinct)[101.0]     0.5658      0.385      1.469      0.142      -0.189       1.321\n",
      "C(suspect_race)[T.white]:C(precinct)[101.0]       -0.2631      0.451     -0.584      0.559      -1.147       0.620\n",
      "C(suspect_race)[T.black]:C(precinct)[102.0]        0.3651      0.111      3.293      0.001       0.148       0.582\n",
      "C(suspect_race)[T.hispanic]:C(precinct)[102.0]     0.2981      0.091      3.281      0.001       0.120       0.476\n",
      "C(suspect_race)[T.white]:C(precinct)[102.0]       -0.0875      0.136     -0.642      0.521      -0.355       0.180\n",
      "C(suspect_race)[T.black]:C(precinct)[103.0]        0.3955      0.117      3.381      0.001       0.166       0.625\n",
      "C(suspect_race)[T.hispanic]:C(precinct)[103.0]     0.3429      0.127      2.695      0.007       0.093       0.592\n",
      "C(suspect_race)[T.white]:C(precinct)[103.0]       -0.0798      0.212     -0.376      0.707      -0.495       0.336\n",
      "C(suspect_race)[T.black]:C(precinct)[104.0]        0.9804      0.248      3.955      0.000       0.495       1.466\n",
      "C(suspect_race)[T.hispanic]:C(precinct)[104.0]     1.0785      0.217      4.977      0.000       0.654       1.503\n",
      "C(suspect_race)[T.white]:C(precinct)[104.0]        0.9426      0.223      4.235      0.000       0.506       1.379\n",
      "C(suspect_race)[T.black]:C(precinct)[105.0]        0.5300      0.140      3.779      0.000       0.255       0.805\n",
      "C(suspect_race)[T.hispanic]:C(precinct)[105.0]     0.1659      0.170      0.978      0.328      -0.167       0.498\n",
      "C(suspect_race)[T.white]:C(precinct)[105.0]       -0.3752      0.202     -1.860      0.063      -0.771       0.020\n",
      "C(suspect_race)[T.black]:C(precinct)[106.0]        0.3618      0.086      4.186      0.000       0.192       0.531\n",
      "C(suspect_race)[T.hispanic]:C(precinct)[106.0]     0.0579      0.100      0.582      0.561      -0.137       0.253\n",
      "C(suspect_race)[T.white]:C(precinct)[106.0]       -0.1105      0.129     -0.857      0.391      -0.363       0.142\n",
      "C(suspect_race)[T.black]:C(precinct)[107.0]        0.4394      0.134      3.274      0.001       0.176       0.702\n",
      "C(suspect_race)[T.hispanic]:C(precinct)[107.0]     0.4872      0.146      3.338      0.001       0.201       0.773\n",
      "C(suspect_race)[T.white]:C(precinct)[107.0]        0.6147      0.165      3.717      0.000       0.291       0.939\n",
      "C(suspect_race)[T.black]:C(precinct)[108.0]       -0.2023      0.154     -1.311      0.190      -0.505       0.100\n",
      "C(suspect_race)[T.hispanic]:C(precinct)[108.0]     0.0581      0.119      0.488      0.626      -0.175       0.292\n",
      "C(suspect_race)[T.white]:C(precinct)[108.0]       -0.1893      0.140     -1.347      0.178      -0.465       0.086\n",
      "C(suspect_race)[T.black]:C(precinct)[109.0]        0.5561      0.102      5.456      0.000       0.356       0.756\n",
      "C(suspect_race)[T.hispanic]:C(precinct)[109.0]     0.4222      0.082      5.177      0.000       0.262       0.582\n",
      "C(suspect_race)[T.white]:C(precinct)[109.0]        0.1841      0.103      1.786      0.074      -0.018       0.386\n",
      "C(suspect_race)[T.black]:C(precinct)[110.0]        0.2640      0.189      1.396      0.163      -0.107       0.635\n",
      "C(suspect_race)[T.hispanic]:C(precinct)[110.0]     0.7204      0.155      4.635      0.000       0.416       1.025\n",
      "C(suspect_race)[T.white]:C(precinct)[110.0]        0.1712      0.226      0.758      0.448      -0.271       0.614\n",
      "C(suspect_race)[T.black]:C(precinct)[111.0]       -0.0447      0.157     -0.284      0.777      -0.353       0.264\n",
      "C(suspect_race)[T.hispanic]:C(precinct)[111.0]     0.1800      0.137      1.316      0.188      -0.088       0.448\n",
      "C(suspect_race)[T.white]:C(precinct)[111.0]       -0.1280      0.132     -0.969      0.333      -0.387       0.131\n",
      "C(suspect_race)[T.black]:C(precinct)[112.0]        0.0556      0.254      0.219      0.827      -0.442       0.553\n",
      "C(suspect_race)[T.hispanic]:C(precinct)[112.0]     0.3340      0.245      1.362      0.173      -0.147       0.814\n",
      "C(suspect_race)[T.white]:C(precinct)[112.0]        0.1843      0.241      0.763      0.445      -0.289       0.657\n",
      "C(suspect_race)[T.black]:C(precinct)[113.0]        0.8031      0.213      3.776      0.000       0.386       1.220\n",
      "C(suspect_race)[T.hispanic]:C(precinct)[113.0]     0.2371      0.244      0.974      0.330      -0.240       0.714\n",
      "C(suspect_race)[T.white]:C(precinct)[113.0]       -0.3289      0.339     -0.970      0.332      -0.994       0.336\n",
      "C(suspect_race)[T.black]:C(precinct)[114.0]       -0.6312      0.142     -4.433      0.000      -0.910      -0.352\n",
      "C(suspect_race)[T.hispanic]:C(precinct)[114.0]     0.0948      0.143      0.661      0.508      -0.186       0.376\n",
      "C(suspect_race)[T.white]:C(precinct)[114.0]        0.1178      0.152      0.774      0.439      -0.180       0.416\n",
      "C(suspect_race)[T.black]:C(precinct)[115.0]        0.7600      0.187      4.059      0.000       0.393       1.127\n",
      "C(suspect_race)[T.hispanic]:C(precinct)[115.0]     0.8239      0.159      5.187      0.000       0.513       1.135\n",
      "C(suspect_race)[T.white]:C(precinct)[115.0]        0.3844      0.224      1.712      0.087      -0.056       0.824\n",
      "C(suspect_race)[T.black]:C(precinct)[120.0]        0.4261      0.229      1.857      0.063      -0.024       0.876\n",
      "C(suspect_race)[T.hispanic]:C(precinct)[120.0]     0.2792      0.232      1.202      0.229      -0.176       0.734\n",
      "C(suspect_race)[T.white]:C(precinct)[120.0]        0.0076      0.235      0.032      0.974      -0.453       0.468\n",
      "C(suspect_race)[T.black]:C(precinct)[121.0]        0.3714   1.06e+07    3.5e-08      1.000   -2.08e+07    2.08e+07\n",
      "C(suspect_race)[T.hispanic]:C(precinct)[121.0]     1.0381   1.06e+07   9.79e-08      1.000   -2.08e+07    2.08e+07\n",
      "C(suspect_race)[T.white]:C(precinct)[121.0]        0.7399   1.06e+07   6.98e-08      1.000   -2.08e+07    2.08e+07\n",
      "C(suspect_race)[T.black]:C(precinct)[122.0]       -0.2323      0.270     -0.860      0.390      -0.762       0.297\n",
      "C(suspect_race)[T.hispanic]:C(precinct)[122.0]    -0.2637      0.268     -0.983      0.326      -0.790       0.262\n",
      "C(suspect_race)[T.white]:C(precinct)[122.0]       -0.2190      0.258     -0.848      0.396      -0.725       0.287\n",
      "C(suspect_race)[T.black]:C(precinct)[123.0]        1.1527      0.649      1.775      0.076      -0.120       2.425\n",
      "C(suspect_race)[T.hispanic]:C(precinct)[123.0]     0.7048      0.603      1.168      0.243      -0.478       1.887\n",
      "C(suspect_race)[T.white]:C(precinct)[123.0]        0.9551      0.572      1.671      0.095      -0.165       2.076\n",
      "==================================================================================================================\n"
     ]
    }
   ],
   "source": [
    "log_reg1 = sm.Logit.from_formula(\"frisked ~ C(suspect_race) : C(precinct)\",data=sqf_yr).fit()\n",
    "print(log_reg1.summary())"
   ]
  },
  {
   "cell_type": "markdown",
   "id": "43ac88ff",
   "metadata": {
    "id": "xddOFV6kWvzy"
   },
   "source": [
    "It is important to write precinct as categorical because the value of precinct number does not have any meaning, therefore should be interpreted as meaningless. \n",
    "\n",
    "We observe for most precincts, being white is correlated with unlikeliness of being frisked in a stop (negative coefficient), while the correlation is towards likeliness for hispanics and black (positive coefficient).\n",
    "\n",
    "For precincts at tough neighborhoods, we observe being white, black, and hispanic all correlates to more likeliness of being searched (positive correlation). However, the correlation is observed to be stronger positive for blacks and hispanic (higher positive coefficient).\n",
    "\n",
    "Adding another control variable is helpful because it takes account of each precinct individually, making discrimination study result more useful in application because each station can be individually held responsible."
   ]
  },
  {
   "cell_type": "markdown",
   "id": "b5c7b793",
   "metadata": {
    "id": "74cAqUPgW7Mu"
   },
   "source": [
    "The OVB in this case arises from the omitted 'asian' variable in suspect_races. As a result, stop and frisk on asians were contributed into those of other races. When controlling for location, this becomes an important problem for neighborhoods with higher percentage of asian population. Because of the nature of the neighboorhood, more stop and frisk on asian are contributed to the statistics on white, black, and hispanic, making the result in those precincts randomly biased."
   ]
  },
  {
   "cell_type": "markdown",
   "id": "d81e7754",
   "metadata": {
    "id": "grateful-chassis"
   },
   "source": [
    "## Outcome using regularized regression"
   ]
  },
  {
   "cell_type": "markdown",
   "id": "017a2a57",
   "metadata": {
    "id": "scientific-franchise"
   },
   "source": [
    "We will fit a machine learning model to predict the probability that each stop which was conducted on suspicion the pedestrian possessed a weapon actually finds a weapon. Stops which are very unlikely to find a weapon arguably violate the Fourth Amendment, which prohibits unreasonable searches; if such stops disproportionately occur of certain race groups, the policy may violate the Fourteenth Amendment, which prohibits racial discrimination. "
   ]
  },
  {
   "cell_type": "markdown",
   "id": "414356b2",
   "metadata": {
    "id": "-CaMrTP0NlPY"
   },
   "source": [
    "Same data cleaning, and filter for stops conducted on suspicion of criminal posession of a weapon (ie, suspected_crime == 'cpw')."
   ]
  },
  {
   "cell_type": "code",
   "execution_count": 5,
   "id": "52eed993",
   "metadata": {},
   "outputs": [
    {
     "name": "stdout",
     "output_type": "stream",
     "text": [
      "32281\n"
     ]
    }
   ],
   "source": [
    "small_sqf = pd.read_csv('small_sqf_sample.csv')\n",
    "\n",
    "sqf_yr = small_sqf.loc[small_sqf['year'].isin([2009,2010,2011,2012,2013])]\n",
    "sqf_yr = sqf_yr.loc[sqf_yr['suspect_race'].isin(['hispanic','asian','white','black'])]\n",
    "sqf_yr = sqf_yr.loc[sqf_yr['suspected_crime'] == 'cpw']\n",
    "\n",
    "print(len(sqf_yr))"
   ]
  },
  {
   "cell_type": "markdown",
   "id": "4403022a",
   "metadata": {
    "id": "confident-array"
   },
   "source": [
    "We will be fitting the regression model which determines the chance of finding weapon relating to multiple dimensions of information related to the specific stop, which police officer rely on to make a decision regarding a stop."
   ]
  },
  {
   "cell_type": "code",
   "execution_count": 6,
   "id": "c63364c8",
   "metadata": {},
   "outputs": [],
   "source": [
    "import patsy\n",
    "ADDITIONAL_CIRCUMSTANCE_COLUMNS = [a for a in sqf_yr.columns if ('stopped_bc' in a or 'additional_' in a) and a not in (['additional_other', 'stopped_bc_other'])]\n",
    "\n",
    "sqf_yr = sqf_yr.dropna(subset=['found_weapon','precinct','location_housing','suspect_age','suspect_height','suspect_weight','suspect_sex'])\n",
    "weapon = sqf_yr['found_weapon'].astype('int')\n",
    "sqf_X = patsy.dmatrix('C(precinct) * C(suspect_race) + C(location_housing) + C(year) + suspect_age + suspect_height + found_weapon + suspect_weight + suspect_sex +' + '+'.join(ADDITIONAL_CIRCUMSTANCE_COLUMNS),sqf_yr, return_type='dataframe')\n"
   ]
  },
  {
   "cell_type": "markdown",
   "id": "5b229988",
   "metadata": {
    "id": "N3N-RXXKX1PQ"
   },
   "source": [
    "The resulting matrix is more sparse, and it expresses all of the original information more sparsely, in terms of binary true or false on a information matrix basis, which allows sklearn to account for categorical variables. Many information in the original dataframe are categorical information, but is written numerically, which is not matrices suitable for sklearn."
   ]
  },
  {
   "cell_type": "markdown",
   "id": "7b458b02",
   "metadata": {
    "id": "AAib9e-WfUdF"
   },
   "source": [
    "Dividing dataset into Train, Validation, and Test set."
   ]
  },
  {
   "cell_type": "code",
   "execution_count": 7,
   "id": "3217df55",
   "metadata": {},
   "outputs": [],
   "source": [
    "from sklearn.model_selection import train_test_split\n",
    "train_ratio = 0.6\n",
    "validation_ratio = 0.2\n",
    "test_ratio = 0.2\n",
    "\n",
    "\n",
    "x_train, x_test, y_train, y_test = train_test_split(sqf_X, weapon, test_size=1 - train_ratio)\n",
    "\n",
    "\n",
    "x_val, x_test, y_val, y_test = train_test_split(x_test, y_test, test_size=test_ratio / (test_ratio + validation_ratio)) "
   ]
  },
  {
   "cell_type": "markdown",
   "id": "82cbc8c3",
   "metadata": {
    "id": "MWZp2Jw7TKVm"
   },
   "source": [
    "d. We will be training a regularized logistic regression model to predict the outcome. When using many machine learning models, including regularized logistic regression, it is important to preprocess the input features so they are all on the same scale, for reasons discussed in class. In this case, we will take each column in the input data, subtract its mean, and divide by its standard deviation. This makes it so each column of the data has mean 0 and standard deviation 1. \n",
    "\n",
    "When scaling the data, it is important to compute the scaling using only the train set, as shown in class. The reason is that we are pretending that the train data is all we have access to to fit our model fitting pipeline, so we cannot \"peek\" at the validation or test sets to generate our scaling. Use sklearn's StandardScaler (https://scikit-learn.org/stable/modules/generated/sklearn.preprocessing.StandardScaler.html) to fit a scaling transform on the train set and transform the train set (you can use the fit_transform method on the train set).Then apply the fitted StandardScaler model to the validation and test sets as well (using the transform --- not the fit --- method). (Look at the notebook we went through in class on regularization and lasso if you are confused.) The transformed datasets are the final datasets you will feed into your logistic regression model. (5 points)"
   ]
  },
  {
   "cell_type": "code",
   "execution_count": 8,
   "id": "234dc293",
   "metadata": {},
   "outputs": [],
   "source": [
    "from sklearn.preprocessing import StandardScaler\n",
    "from sklearn.linear_model import LogisticRegression\n",
    "from sklearn.metrics import roc_auc_score as auc\n",
    "scaler = StandardScaler()\n",
    "x_train = scaler.fit_transform(x_train)\n",
    "x_val = scaler.fit_transform(x_val)\n",
    "x_test = scaler.fit_transform(x_test)"
   ]
  },
  {
   "cell_type": "markdown",
   "id": "eec68a3e",
   "metadata": {
    "id": "involved-implement"
   },
   "source": [
    "e. Uisng sklearn.linear_model.LogisticRegression, fit a model on the train set to predict found_weapon. Set the \"penalty\" argument to \"none\" so that the model will not use any regularization; this corresponds to fitting a regular logistic regression model. If you get a `ConvergenceWarning`, increase the number of iterations using the `max_iter` argument; this means the model optimization needs more iterations to converge. (Look at the [documentation](https://scikit-learn.org/stable/modules/generated/sklearn.linear_model.LogisticRegression.html) if you are uncertain which arguments to use!)\n",
    "\n",
    "A standard measure of predictive performance for binary outcome variables like found_weapon is AUC. Higher values of AUC are better; an AUC of 1 means that the model is perfectly predicting the outcome; an AUC of 0.5 means that it is predicting it only as well as random chance. Report the AUC of the fitted model (https://scikit-learn.org/stable/modules/generated/sklearn.metrics.roc_auc_score.html) on both the train and validation sets. What is the problem with using accuracy as a metric for this task? How does the train set AUC differ from the validation AUC, and does this make sense? (7 points)"
   ]
  },
  {
   "cell_type": "code",
   "execution_count": 9,
   "id": "36f69035",
   "metadata": {},
   "outputs": [
    {
     "name": "stdout",
     "output_type": "stream",
     "text": [
      "Train set AUC is: 1.0\n",
      "Validation set AUC is: 1.0\n",
      "Test set AUC is: 1.0\n"
     ]
    }
   ],
   "source": [
    "\n",
    "\n",
    "\n",
    "model = LogisticRegression(penalty='none',max_iter=10000).fit(x_train, y_train)\n",
    "\n",
    "predicted = model.predict(x_train)\n",
    "\n",
    "print('Train set AUC is:',auc(y_train,predicted))\n",
    "\n",
    "predicted1 = model.predict(x_val)\n",
    "\n",
    "print('Validation set AUC is:',auc(y_val,predicted1))\n",
    "\n",
    "predicted2 = model.predict(x_test)\n",
    "\n",
    "print('Test set AUC is:',auc(y_test,predicted2))\n"
   ]
  },
  {
   "cell_type": "markdown",
   "id": "fc1d5df9",
   "metadata": {
    "id": "1Ep5iHbBhn1z"
   },
   "source": [
    "AUC reflects the model is capable of predicting better using train set than using validation set. This makes sense because the model was trained using the train set, so its algorithm is best at handling the original dataset. However, the AUC is between 50 to 60% for all dataset, meaning the model is only slightly better than random guessing, showing a lack of prediction accuracy."
   ]
  },
  {
   "cell_type": "markdown",
   "id": "be440d3f",
   "metadata": {
    "id": "eight-absorption"
   },
   "source": [
    "We will try to use regularization to reduce overfitting. You will be fitting an L1-penalized logistic regression model using code that looks something like\n",
    "\n",
    "`LogisticRegression(C=sparsity_param, penalty='l1', solver='liblinear')`\n",
    "\n",
    "Show the train set, val set, and test set AUC for each value of of the regularization parameter. Plot x-axis is the regularization parameter and the y-axis is AUC, with one line for train AUC, one line for val AUC, and one line for test AUC."
   ]
  },
  {
   "cell_type": "markdown",
   "id": "9eccc50d",
   "metadata": {},
   "source": []
  },
  {
   "cell_type": "code",
   "execution_count": 10,
   "id": "d3e87fb8",
   "metadata": {},
   "outputs": [
    {
     "name": "stdout",
     "output_type": "stream",
     "text": [
      "0.01\n",
      "0.05\n",
      "0.09\n",
      "0.13\n",
      "0.17\n",
      "0.21000000000000002\n",
      "0.25\n",
      "0.29000000000000004\n",
      "0.33\n",
      "0.37\n",
      "0.41000000000000003\n",
      "0.45\n",
      "0.49\n",
      "0.53\n",
      "0.5700000000000001\n",
      "0.61\n",
      "0.65\n",
      "0.6900000000000001\n",
      "0.73\n",
      "0.77\n",
      "0.81\n",
      "0.85\n",
      "0.89\n",
      "0.93\n",
      "0.97\n"
     ]
    },
    {
     "data": {
      "image/png": "[encoded data removed]",
      "text/plain": [
       "<Figure size 640x480 with 1 Axes>"
      ]
     },
     "metadata": {},
     "output_type": "display_data"
    }
   ],
   "source": [
    "reglist = np.arange(0.01, 1, 0.04).tolist()\n",
    "auctrain = []\n",
    "auctest = []\n",
    "aucval = []\n",
    "for i in reglist:\n",
    "    sparsity_param = i\n",
    "    mod = LogisticRegression(C=sparsity_param, penalty='l1', solver='liblinear').fit(x_train,y_train)\n",
    "\n",
    "    predicted1 = mod.predict(x_val)\n",
    "    predicted2 = mod.predict(x_train)\n",
    "    predicted3 = mod.predict(x_test)\n",
    "    aucval.append(auc(y_val,predicted1))\n",
    "    auctrain.append(auc(y_train,predicted2))\n",
    "    auctest.append(auc(y_test,predicted3))\n",
    "    print(i)\n",
    "\n",
    "\n",
    "import matplotlib.pyplot as plt\n",
    "\n",
    "plt.figure()\n",
    "plt.semilogx(reglist,aucval,label='Validation')\n",
    "plt.semilogx(reglist,auctest,label='Test')\n",
    "plt.semilogx(reglist,auctrain,label='Train')\n",
    "plt.legend()\n",
    "plt.show()"
   ]
  },
  {
   "cell_type": "code",
   "execution_count": null,
   "id": "fbb87fc0",
   "metadata": {},
   "outputs": [],
   "source": []
  },
  {
   "cell_type": "markdown",
   "id": "e3a8b6c2",
   "metadata": {
    "id": "owMXSAmTeInj"
   },
   "source": [
    "Looking at the AUC score for different regularization, it appears the AUC score is the best for both test and validation set at C equals to 10^-0.96. As the AUC score for train set is higher across all C values, we still see overfitting in our model.\n",
    "\n",
    "For the next parts, we will use C = 0.1096. "
   ]
  },
  {
   "cell_type": "markdown",
   "id": "888102f4",
   "metadata": {
    "id": "antique-connection"
   },
   "source": [
    "Checks whether the model's predicted probabilities line up with the true probabilities, taking the 10% of rows of the test set with the highest model predictions and compare the mean model predicted probability to the actual mean of the outcome variable. Repeat for the next 10% of rows, and for all 10% groups. Plot to compare the model predicted probabilities on each 10% group to the actual outcomes."
   ]
  },
  {
   "cell_type": "code",
   "execution_count": 11,
   "id": "acb847fa",
   "metadata": {},
   "outputs": [
    {
     "name": "stderr",
     "output_type": "stream",
     "text": [
      "C:\\Users\\yedot\\AppData\\Local\\Temp\\ipykernel_19148\\3923088304.py:15: FutureWarning: The behavior of `series[i:j]` with an integer-dtype index is deprecated. In a future version, this will be treated as *label-based* indexing, consistent with e.g. `series[i]` lookups. To retain the old behavior, use `series.iloc[i:j]`. To get the future behavior, use `series.loc[i:j]`.\n",
      "  name1 = pd.Series(pp[a:b].index)\n",
      "C:\\Users\\yedot\\AppData\\Local\\Temp\\ipykernel_19148\\3923088304.py:19: FutureWarning: The behavior of `series[i:j]` with an integer-dtype index is deprecated. In a future version, this will be treated as *label-based* indexing, consistent with e.g. `series[i]` lookups. To retain the old behavior, use `series.iloc[i:j]`. To get the future behavior, use `series.loc[i:j]`.\n",
      "  avg1 = pp[a:b].mean()\n",
      "C:\\Users\\yedot\\AppData\\Local\\Temp\\ipykernel_19148\\3923088304.py:15: FutureWarning: The behavior of `series[i:j]` with an integer-dtype index is deprecated. In a future version, this will be treated as *label-based* indexing, consistent with e.g. `series[i]` lookups. To retain the old behavior, use `series.iloc[i:j]`. To get the future behavior, use `series.loc[i:j]`.\n",
      "  name1 = pd.Series(pp[a:b].index)\n",
      "C:\\Users\\yedot\\AppData\\Local\\Temp\\ipykernel_19148\\3923088304.py:19: FutureWarning: The behavior of `series[i:j]` with an integer-dtype index is deprecated. In a future version, this will be treated as *label-based* indexing, consistent with e.g. `series[i]` lookups. To retain the old behavior, use `series.iloc[i:j]`. To get the future behavior, use `series.loc[i:j]`.\n",
      "  avg1 = pp[a:b].mean()\n",
      "C:\\Users\\yedot\\AppData\\Local\\Temp\\ipykernel_19148\\3923088304.py:15: FutureWarning: The behavior of `series[i:j]` with an integer-dtype index is deprecated. In a future version, this will be treated as *label-based* indexing, consistent with e.g. `series[i]` lookups. To retain the old behavior, use `series.iloc[i:j]`. To get the future behavior, use `series.loc[i:j]`.\n",
      "  name1 = pd.Series(pp[a:b].index)\n",
      "C:\\Users\\yedot\\AppData\\Local\\Temp\\ipykernel_19148\\3923088304.py:19: FutureWarning: The behavior of `series[i:j]` with an integer-dtype index is deprecated. In a future version, this will be treated as *label-based* indexing, consistent with e.g. `series[i]` lookups. To retain the old behavior, use `series.iloc[i:j]`. To get the future behavior, use `series.loc[i:j]`.\n",
      "  avg1 = pp[a:b].mean()\n",
      "C:\\Users\\yedot\\AppData\\Local\\Temp\\ipykernel_19148\\3923088304.py:15: FutureWarning: The behavior of `series[i:j]` with an integer-dtype index is deprecated. In a future version, this will be treated as *label-based* indexing, consistent with e.g. `series[i]` lookups. To retain the old behavior, use `series.iloc[i:j]`. To get the future behavior, use `series.loc[i:j]`.\n",
      "  name1 = pd.Series(pp[a:b].index)\n",
      "C:\\Users\\yedot\\AppData\\Local\\Temp\\ipykernel_19148\\3923088304.py:19: FutureWarning: The behavior of `series[i:j]` with an integer-dtype index is deprecated. In a future version, this will be treated as *label-based* indexing, consistent with e.g. `series[i]` lookups. To retain the old behavior, use `series.iloc[i:j]`. To get the future behavior, use `series.loc[i:j]`.\n",
      "  avg1 = pp[a:b].mean()\n",
      "C:\\Users\\yedot\\AppData\\Local\\Temp\\ipykernel_19148\\3923088304.py:15: FutureWarning: The behavior of `series[i:j]` with an integer-dtype index is deprecated. In a future version, this will be treated as *label-based* indexing, consistent with e.g. `series[i]` lookups. To retain the old behavior, use `series.iloc[i:j]`. To get the future behavior, use `series.loc[i:j]`.\n",
      "  name1 = pd.Series(pp[a:b].index)\n",
      "C:\\Users\\yedot\\AppData\\Local\\Temp\\ipykernel_19148\\3923088304.py:19: FutureWarning: The behavior of `series[i:j]` with an integer-dtype index is deprecated. In a future version, this will be treated as *label-based* indexing, consistent with e.g. `series[i]` lookups. To retain the old behavior, use `series.iloc[i:j]`. To get the future behavior, use `series.loc[i:j]`.\n",
      "  avg1 = pp[a:b].mean()\n",
      "C:\\Users\\yedot\\AppData\\Local\\Temp\\ipykernel_19148\\3923088304.py:15: FutureWarning: The behavior of `series[i:j]` with an integer-dtype index is deprecated. In a future version, this will be treated as *label-based* indexing, consistent with e.g. `series[i]` lookups. To retain the old behavior, use `series.iloc[i:j]`. To get the future behavior, use `series.loc[i:j]`.\n",
      "  name1 = pd.Series(pp[a:b].index)\n",
      "C:\\Users\\yedot\\AppData\\Local\\Temp\\ipykernel_19148\\3923088304.py:19: FutureWarning: The behavior of `series[i:j]` with an integer-dtype index is deprecated. In a future version, this will be treated as *label-based* indexing, consistent with e.g. `series[i]` lookups. To retain the old behavior, use `series.iloc[i:j]`. To get the future behavior, use `series.loc[i:j]`.\n",
      "  avg1 = pp[a:b].mean()\n",
      "C:\\Users\\yedot\\AppData\\Local\\Temp\\ipykernel_19148\\3923088304.py:15: FutureWarning: The behavior of `series[i:j]` with an integer-dtype index is deprecated. In a future version, this will be treated as *label-based* indexing, consistent with e.g. `series[i]` lookups. To retain the old behavior, use `series.iloc[i:j]`. To get the future behavior, use `series.loc[i:j]`.\n",
      "  name1 = pd.Series(pp[a:b].index)\n",
      "C:\\Users\\yedot\\AppData\\Local\\Temp\\ipykernel_19148\\3923088304.py:19: FutureWarning: The behavior of `series[i:j]` with an integer-dtype index is deprecated. In a future version, this will be treated as *label-based* indexing, consistent with e.g. `series[i]` lookups. To retain the old behavior, use `series.iloc[i:j]`. To get the future behavior, use `series.loc[i:j]`.\n",
      "  avg1 = pp[a:b].mean()\n",
      "C:\\Users\\yedot\\AppData\\Local\\Temp\\ipykernel_19148\\3923088304.py:15: FutureWarning: The behavior of `series[i:j]` with an integer-dtype index is deprecated. In a future version, this will be treated as *label-based* indexing, consistent with e.g. `series[i]` lookups. To retain the old behavior, use `series.iloc[i:j]`. To get the future behavior, use `series.loc[i:j]`.\n",
      "  name1 = pd.Series(pp[a:b].index)\n",
      "C:\\Users\\yedot\\AppData\\Local\\Temp\\ipykernel_19148\\3923088304.py:19: FutureWarning: The behavior of `series[i:j]` with an integer-dtype index is deprecated. In a future version, this will be treated as *label-based* indexing, consistent with e.g. `series[i]` lookups. To retain the old behavior, use `series.iloc[i:j]`. To get the future behavior, use `series.loc[i:j]`.\n",
      "  avg1 = pp[a:b].mean()\n",
      "C:\\Users\\yedot\\AppData\\Local\\Temp\\ipykernel_19148\\3923088304.py:15: FutureWarning: The behavior of `series[i:j]` with an integer-dtype index is deprecated. In a future version, this will be treated as *label-based* indexing, consistent with e.g. `series[i]` lookups. To retain the old behavior, use `series.iloc[i:j]`. To get the future behavior, use `series.loc[i:j]`.\n",
      "  name1 = pd.Series(pp[a:b].index)\n",
      "C:\\Users\\yedot\\AppData\\Local\\Temp\\ipykernel_19148\\3923088304.py:19: FutureWarning: The behavior of `series[i:j]` with an integer-dtype index is deprecated. In a future version, this will be treated as *label-based* indexing, consistent with e.g. `series[i]` lookups. To retain the old behavior, use `series.iloc[i:j]`. To get the future behavior, use `series.loc[i:j]`.\n",
      "  avg1 = pp[a:b].mean()\n",
      "C:\\Users\\yedot\\AppData\\Local\\Temp\\ipykernel_19148\\3923088304.py:15: FutureWarning: The behavior of `series[i:j]` with an integer-dtype index is deprecated. In a future version, this will be treated as *label-based* indexing, consistent with e.g. `series[i]` lookups. To retain the old behavior, use `series.iloc[i:j]`. To get the future behavior, use `series.loc[i:j]`.\n",
      "  name1 = pd.Series(pp[a:b].index)\n",
      "C:\\Users\\yedot\\AppData\\Local\\Temp\\ipykernel_19148\\3923088304.py:19: FutureWarning: The behavior of `series[i:j]` with an integer-dtype index is deprecated. In a future version, this will be treated as *label-based* indexing, consistent with e.g. `series[i]` lookups. To retain the old behavior, use `series.iloc[i:j]`. To get the future behavior, use `series.loc[i:j]`.\n",
      "  avg1 = pp[a:b].mean()\n"
     ]
    },
    {
     "data": {
      "image/png": "[encoded data removed]",
      "text/plain": [
       "<Figure size 640x480 with 1 Axes>"
      ]
     },
     "metadata": {},
     "output_type": "display_data"
    }
   ],
   "source": [
    "mod = LogisticRegression(C=0.1096, penalty='l1', solver='liblinear').fit(x_train,y_train)\n",
    "pp = pd.DataFrame(mod.predict_proba(x_test))\n",
    "\n",
    "pp = pp.sort_values(by=[1],ascending=False)\n",
    "pp = pp[1]\n",
    "\n",
    "pp1 = pd.DataFrame(y_test).reset_index(drop=True)\n",
    "\n",
    "avg_test = []\n",
    "avg_true = []\n",
    "\n",
    "for i in range(10):\n",
    "    a = i * 642\n",
    "    b = (i+1) * 642 - 1\n",
    "    name1 = pd.Series(pp[a:b].index)\n",
    "    pp1name = pd.Series(pp1.index)\n",
    "\n",
    "    name1 = pp1name[pp1name.isin(name1)]\n",
    "    avg1 = pp[a:b].mean()\n",
    "    avg_test.append(avg1)\n",
    "    tavg1 = pp1.loc[name1].mean()\n",
    "    avg2 = tavg1[0]\n",
    "    avg_true.append(avg2)\n",
    "\n",
    "plt.figure()\n",
    "plt.scatter(avg_true,avg_test,label=True)\n",
    "x = np.linspace(0,0.175,100)\n",
    "y = x\n",
    "plt.plot(x,y)\n",
    "plt.show()"
   ]
  },
  {
   "cell_type": "markdown",
   "id": "52ef7066",
   "metadata": {
    "id": "frozen-apollo"
   },
   "source": [
    "Find the fraction of observations which have lower than a 2% model-predicted probability of finding a weapon for white, black, Hispanic, and Asian pedestrians. Stops below this threshold are extremely unlikely to have resulted in finding a weapon, arguably violating the Fourth Amendment. Repeat for 20 thresholds evenly spaced between 1% and 5%. Make a graph where the x-axis is the threshold, and the y-axis is the fraction of stops falling below that threshold, with one line for each race group."
   ]
  },
  {
   "cell_type": "code",
   "execution_count": 12,
   "id": "00a45e70",
   "metadata": {},
   "outputs": [
    {
     "data": {
      "image/png": "[encoded data removed]",
      "text/plain": [
       "<Figure size 640x480 with 1 Axes>"
      ]
     },
     "metadata": {},
     "output_type": "display_data"
    }
   ],
   "source": [
    "sqf_yr = sqf_yr.reset_index(drop=True)\n",
    "\n",
    "sqf_yr['lowrisk1'] = pp[pp.le(0.01)]\n",
    "\n",
    "sqf_yr['lowrisk2'] = pp[pp.le(0.02)]\n",
    "sqf_yr['lowrisk3'] = pp[pp.le(0.03)]\n",
    "sqf_yr['lowrisk4'] = pp[pp.le(0.04)]\n",
    "sqf_yr['lowrisk5'] = pp[pp.le(0.05)]\n",
    "sqf_yr['lowrisk5.3'] = pp[pp.le(0.15)]\n",
    "sqf_yr['lowrisk5.5'] = pp[pp.le(0.4)]\n",
    "\n",
    "sqf_yr['lowrisk6'] = pp[pp.le(0.9)]\n",
    "\n",
    "\n",
    "racecount = sqf_yr.groupby(['suspect_race']).count()\n",
    "racecount['lowrisk_search1'] = racecount['lowrisk1'] / racecount['year']\n",
    "\n",
    "\n",
    "racecount['lowrisk_search2'] = racecount['lowrisk2'] / racecount['year']\n",
    "\n",
    "\n",
    "racecount['lowrisk_search3'] = racecount['lowrisk3'] / racecount['year']\n",
    "\n",
    "\n",
    "racecount['lowrisk_search4'] = racecount['lowrisk4'] / racecount['year']\n",
    "\n",
    "\n",
    "racecount['lowrisk_search5'] = racecount['lowrisk5'] / racecount['year']\n",
    "\n",
    "racecount['lowrisk_search5.3'] = racecount['lowrisk5.3'] / racecount['year']\n",
    "\n",
    "racecount['lowrisk_search5.5'] = racecount['lowrisk5.5'] / racecount['year']\n",
    "\n",
    "racecount['lowrisk_search6'] = racecount['lowrisk6'] / racecount['year']\n",
    "\n",
    "racecount = racecount[['lowrisk_search1','lowrisk_search2','lowrisk_search3','lowrisk_search4','lowrisk_search5','lowrisk_search5.3','lowrisk_search5.5','lowrisk_search6']]\n",
    "\n",
    "reglist = [0.005,0.01,0.015,0.02,0.025,0.075,0.2,0.9]\n",
    "plt.figure()\n",
    "plt.plot(reglist,racecount.loc['asian'],label='Asian')\n",
    "plt.plot(reglist,racecount.loc['black'],label='Black')\n",
    "plt.plot(reglist,racecount.loc['hispanic'],label='Hispanic')\n",
    "plt.plot(reglist,racecount.loc['white'],label='White')\n",
    "plt.legend()\n",
    "\n",
    "plt.show()"
   ]
  },
  {
   "cell_type": "markdown",
   "id": "240ba8fb",
   "metadata": {},
   "source": [
    "The graph shows for all races, as our algorithm suggests higher risk of weapon found, their reaslistic probability of being stopped is also higher. Below the low risk shreshould of 0.02, where we question regard to Fourth Admendment, we see that the white race has the lowest probability of being stopped, showing a significant disparity with the higher level of black and hispanic. For higher risk range over 0.1, we observe a fairly stable level of stop for each race, represented as asian having slightly lower stop rate than black and hispanics, and the rate is significantly lower for white. These are plenty evidence for violation of the Fourth Admendment. "
   ]
  }
 ],
 "metadata": {
  "colab": {
   "collapsed_sections": [],
   "provenance": []
  },
  "kernelspec": {
   "display_name": "Python 3 (ipykernel)",
   "language": "python",
   "name": "python3"
  },
  "language_info": {
   "codemirror_mode": {
    "name": "ipython",
    "version": 3
   },
   "file_extension": ".py",
   "mimetype": "text/x-python",
   "name": "python",
   "nbconvert_exporter": "python",
   "pygments_lexer": "ipython3",
   "version": "3.10.6"
  }
 },
 "nbformat": 4,
 "nbformat_minor": 5
}
